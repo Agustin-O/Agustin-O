{
  "cells": [
    {
      "cell_type": "markdown",
      "metadata": {
        "id": "view-in-github",
        "colab_type": "text"
      },
      "source": [
        "<a href=\"https://colab.research.google.com/github/Agustin-O/Agustin-O/blob/main/Aula_1.ipynb\" target=\"_parent\"><img src=\"https://colab.research.google.com/assets/colab-badge.svg\" alt=\"Open In Colab\"/></a>"
      ]
    },
    {
      "cell_type": "markdown",
      "metadata": {
        "id": "c8iTg6dksZUj"
      },
      "source": [
        "# Parte 1"
      ]
    },
    {
      "cell_type": "code",
      "execution_count": null,
      "metadata": {
        "colab": {
          "background_save": true
        },
        "id": "zwFnJsE6vjf8"
      },
      "outputs": [],
      "source": [
        "print(10+5)\n",
        "#t1\n",
        "print(\"10\"+\"5\")\n",
        "#t2\n",
        "10+5\n",
        "#t3\n",
        "\"10\"+\"5\"\n",
        "#t4"
      ]
    },
    {
      "cell_type": "code",
      "execution_count": null,
      "metadata": {
        "id": "7UylHVgleXvh"
      },
      "outputs": [],
      "source": [
        "#exemplo de variavel\n",
        "nome = input(\"Qual é o seu nome?\")\n",
        "idade = input(\"Qual é a sua idade?\")\n",
        "genero = input(\"Qual é o seu genero?\")"
      ]
    },
    {
      "cell_type": "code",
      "execution_count": null,
      "metadata": {
        "id": "tybR58lAfQmp"
      },
      "outputs": [],
      "source": [
        "print(nome)\n",
        "print(idade)\n",
        "print(genero)"
      ]
    },
    {
      "cell_type": "markdown",
      "metadata": {
        "id": "HNf9PxV8v0rc"
      },
      "source": [
        "Classes de cada variavel"
      ]
    },
    {
      "cell_type": "code",
      "execution_count": null,
      "metadata": {
        "colab": {
          "background_save": true
        },
        "id": "ubtrKwXghKnn",
        "outputId": "4f914d95-ae3f-40d2-ac17-2ad5d64ed959"
      },
      "outputs": [
        {
          "name": "stdout",
          "output_type": "stream",
          "text": [
            "<class 'int'>\n",
            "<class 'int'>\n"
          ]
        }
      ],
      "source": [
        "#como saber que tipo de valor é (exemplo: se é String, Int, etc), neste caso é int.\n",
        "idade = 14\n",
        "ano = 2009\n",
        "\n",
        "print(type(idade))\n",
        "print(type(ano))"
      ]
    },
    {
      "cell_type": "code",
      "execution_count": null,
      "metadata": {
        "id": "Dmgrp3-jiEKu"
      },
      "outputs": [],
      "source": [
        "#como saber que tipo de valor é (exemplo: se é String, Int, etc), neste caso é float.\n",
        "altura = 1.80\n",
        "peso = 45.5\n",
        "\n",
        "print(type(altura))\n",
        "print(type(peso))"
      ]
    },
    {
      "cell_type": "code",
      "execution_count": null,
      "metadata": {
        "id": "xC2bYmpIi3-v"
      },
      "outputs": [],
      "source": [
        "#como saber que tipo de valor é (exemplo: se é String, Int, etc), neste caso é string.\n",
        "nome = 'Tomás'\n",
        "profissao = 'estudante'\n",
        "\n",
        "print(type(nome))\n",
        "print(type(profissao))"
      ]
    },
    {
      "cell_type": "code",
      "execution_count": null,
      "metadata": {
        "id": "IiyNChI2jiuu"
      },
      "outputs": [],
      "source": [
        "#como saber que tipo de valor é (exemplo: se é String, Int, etc), neste caso é boolean.\n",
        "final_de_semana = True\n",
        "feriado = False\n",
        "\n",
        "print(type(final_de_semana))\n",
        "print(type(feriado))"
      ]
    },
    {
      "cell_type": "markdown",
      "metadata": {
        "id": "L6Qjgq8swCEF"
      },
      "source": [
        "Exercicio 1"
      ]
    },
    {
      "cell_type": "code",
      "execution_count": null,
      "metadata": {
        "id": "98rf2lFdpK0a"
      },
      "outputs": [],
      "source": [
        "#aqui classificamos cada valor de variavel como uma str, float, int, etc.\n",
        "#juntamos com o input e depois colocamos print para mostrar os valores atribuidos.\n",
        "idade = int(input(\"Qual é sua idade?\"))\n",
        "peso = float(input(\"Qual é seu peso?\"))\n",
        "altura = float(input(\"Qual é sua altura?\"))\n",
        "nome = str(input(\"Qual é seu nome?\"))\n",
        "profissao = str(input(\"Qual é sua profissão?\"))\n",
        "genero = str(input(\"Qual é o seu genero?\"))\n",
        "\n",
        "print(idade,peso,altura,nome,profissao,genero)"
      ]
    },
    {
      "cell_type": "markdown",
      "metadata": {
        "id": "mhfNcrP-sVPr"
      },
      "source": [
        "# Parte 2"
      ]
    },
    {
      "cell_type": "markdown",
      "metadata": {
        "id": "JKhxkTxmwc9P"
      },
      "source": [
        "Operações aritimeticas"
      ]
    },
    {
      "cell_type": "code",
      "execution_count": null,
      "metadata": {
        "id": "iAmLjn1xsXsD",
        "colab": {
          "base_uri": "https://localhost:8080/"
        },
        "outputId": "86d49c90-4fdb-49f8-8e8c-b39be3e897f2"
      },
      "outputs": [
        {
          "output_type": "stream",
          "name": "stdout",
          "text": [
            "Qual é o valor de a?9\n",
            "Qual é o valor de b?0\n",
            "Não é divisivel por 0\n"
          ]
        }
      ],
      "source": [
        "#operações aritimeticas, exemplos:\n",
        "try:\n",
        "  a = int(input(\"Qual é o valor de a?\"))\n",
        "  b = int(input(\"Qual é o valor de b?\"))\n",
        "\n",
        "  #soma\n",
        "  soma = a+b\n",
        "\n",
        "  #substração\n",
        "  substracao = a-b\n",
        "\n",
        "  #multiplicação\n",
        "  multiplicacao = a*b\n",
        "\n",
        "  #divisão\n",
        "  divisao = a/b\n",
        "\n",
        "  #resto\n",
        "  resto = a%b\n",
        "\n",
        "  print(\"Soma:\", soma)\n",
        "  print(\"Substração:\", substracao)\n",
        "  print(\"Multiplicação\", multiplicacao)\n",
        "  print(\"Divisão:\", divisao)\n",
        "  print(\"Resto da divisão:\", resto)\n",
        "except ZeroDivisionError:\n",
        "  print(\"Não é divisivel por 0\")\n",
        "except ValueError:\n",
        "  print(\"Número não é inteiro\")"
      ]
    },
    {
      "cell_type": "markdown",
      "metadata": {
        "id": "0hpqQEuawb0P"
      },
      "source": [
        "Operações com String\n"
      ]
    },
    {
      "cell_type": "code",
      "execution_count": null,
      "metadata": {
        "id": "QqvUaDolwlBv"
      },
      "outputs": [],
      "source": [
        "nome = input(\"Quale é o seu nome? \")\n",
        "sobrenome = input(\"Qual é o seu sobrenome? \")\n",
        "nome_completo = nome + \" \" + sobrenome\n",
        "\n",
        "print(\"Seu nome completo é: \", nome_completo, \"\\n Seu nome é: \", nome, \"\\n Seu sobrenome é: \", sobrenome)\n"
      ]
    },
    {
      "cell_type": "code",
      "execution_count": null,
      "metadata": {
        "id": "s1qv_eqxywYF"
      },
      "outputs": [],
      "source": [
        "nome = input(\"Digite o seu nome: \")\n",
        "idade = int(input(\"Digite a sua idade: \"))\n",
        "\n",
        "print(\"Seu nome é\", nome, \"\\nSua idade é\", idade, \"anos\")"
      ]
    },
    {
      "cell_type": "markdown",
      "metadata": {
        "id": "Ubo4NLCL1us2"
      },
      "source": [
        "Operações relacionais"
      ]
    },
    {
      "cell_type": "code",
      "execution_count": null,
      "metadata": {
        "id": "Z9LHrcaD157P"
      },
      "outputs": [],
      "source": [
        "idade = int(input(\"Qual é sua idade?\"))\n",
        "\n",
        "if idade <= 17:\n",
        " print(\"Você é menor de idade\")\n",
        "\n",
        "elif idade >= 18:\n",
        " print(\"Você é maior de idade\")"
      ]
    },
    {
      "cell_type": "code",
      "execution_count": null,
      "metadata": {
        "id": "AWXxO54J5tDc"
      },
      "outputs": [],
      "source": [
        "idade = int(input(\"Qual é sua idade? \"))\n",
        "\n",
        "if idade >= 18:\n",
        " print(\"Você é maior de idade, você pode votar\")\n",
        "\n",
        "elif idade >= 16:\n",
        " print(\"Você pode votar, mas não é obrigatorio\")\n",
        "\n",
        "else:\n",
        "  print(\"Você é menor de idade\")"
      ]
    },
    {
      "cell_type": "markdown",
      "metadata": {
        "id": "0fQXJkdW7bp3"
      },
      "source": [
        "Exercicio 1"
      ]
    },
    {
      "cell_type": "code",
      "execution_count": null,
      "metadata": {
        "id": "_fHg15Sg7f53"
      },
      "outputs": [],
      "source": [
        "print(\"Faça seu cadastro conosco, Complete as informações a seguir:\")\n",
        "\n",
        "login = input(\"Nome de Usuario: \")\n",
        "senha = (input(\"Senha: \"))\n",
        "\n",
        "print(\"Seu nome de usuario será: \", login,\"e sua senha será \", senha)\n",
        "\n",
        "codigo_de_seguranca = int(input(\"Para indentificarmos se você não é um robo, coloque um numero maior que 10 para prosseguir: \"))\n",
        "\n",
        "if codigo_de_seguranca > 10:\n",
        "  print(\"Esse numero é maior que 10, agora você pode prosseguir\")\n",
        "elif codigo_de_seguranca <= 10:\n",
        "  print(\"Esse número é menor ou igual a 10, tente novamente porfavor\")"
      ]
    },
    {
      "cell_type": "markdown",
      "metadata": {
        "id": "G24SC-1F_AjI"
      },
      "source": [
        "Exercicio 2"
      ]
    },
    {
      "cell_type": "code",
      "execution_count": null,
      "metadata": {
        "id": "6nGIklxC_C74",
        "colab": {
          "base_uri": "https://localhost:8080/"
        },
        "outputId": "4282c415-ca0c-45fd-8c06-2ce22d176a30"
      },
      "outputs": [
        {
          "output_type": "stream",
          "name": "stdout",
          "text": [
            "Qual é a sua nota? De 1 a 10:\n",
            "10\n",
            "Parabens! Você foi aprovado!\n"
          ]
        }
      ],
      "source": [
        "media = float(input(\"Qual é a sua nota? De 1 a 10:\\n\"))\n",
        "\n",
        "if media <4:\n",
        "  print(\"Reprovado(a)!\")\n",
        "elif media < 7 and media > 4:\n",
        "  print(\"De recuperação!\")\n",
        "else:\n",
        "  print(\"Parabens! Você foi aprovado!\")"
      ]
    },
    {
      "cell_type": "markdown",
      "metadata": {
        "id": "564aJsBub_4M"
      },
      "source": [
        "# Parte 3"
      ]
    },
    {
      "cell_type": "markdown",
      "metadata": {
        "id": "lPDeCxHRemMp"
      },
      "source": [
        "Casos"
      ]
    },
    {
      "cell_type": "code",
      "execution_count": null,
      "metadata": {
        "id": "bOO3jHMzcCoc"
      },
      "outputs": [],
      "source": [
        "#exemplo 1 de casos:\n",
        "\n",
        "\n",
        "numero = int(input(\"Digite um numero de 1 a 3: \"))\n",
        "\n",
        "match numero:\n",
        "    case 1:\n",
        "        print(\"Opção 1\")\n",
        "    case 2:\n",
        "        print(\"Opção 2\")\n",
        "    case 3:\n",
        "        print(\"Opção 3\")\n",
        "    case _:\n",
        "        print(\"Numero não é válido\")"
      ]
    },
    {
      "cell_type": "code",
      "execution_count": null,
      "metadata": {
        "id": "WB-gUC7-cDkE"
      },
      "outputs": [],
      "source": [
        "numero = int(input(\"Digite um numero de 1 a 10: \"))\n",
        "\n",
        "match numero:\n",
        "  case 1|2|3|4|5|6|7|8|9|10:\n",
        "    print(f\"Opção {numero} esta dentro das opções\")\n",
        "  case _:\n",
        "    print(\"Opção não é valida\")"
      ]
    },
    {
      "cell_type": "markdown",
      "metadata": {
        "id": "TizelyakegcQ"
      },
      "source": [
        "Exercicio 1"
      ]
    },
    {
      "cell_type": "code",
      "execution_count": null,
      "metadata": {
        "id": "LU3T41CmekbJ"
      },
      "outputs": [],
      "source": [
        "print(\"BEM VINDO AO SISTEMA DE CONTAS, PARA PROSEGUIR DE O VALOR AO QUE QUERES SABER:\")\n",
        "\n",
        "a = int(input(\"De um valor numerico para a: \"))\n",
        "b = int(input(\"De um valor numerico para b: \"))\n",
        "\n",
        "soma = a+b\n",
        "substracao = a-b\n",
        "multiplicacao = a*b\n",
        "divisao = a/b\n",
        "resto = a%b\n",
        "\n",
        "print(\"Os valores escolhidos para a e b são, respectivamente:\", a,\"e\", b)\n",
        "\n",
        "numero = int(input(\"Escolha uma opção, de 1 a 5: \\nOpção 1 Soma \\nOpção 2 Substração \\nOpção 3 Multiplicação \\nOpção 4 Divisão \\nOpção 5 Resto \\n\"))\n",
        "\n",
        "match numero:\n",
        "  case 1:\n",
        "    print(\"Soma: \", soma)\n",
        "  case 2:\n",
        "    print(\"Substração: \", substracao)\n",
        "  case 3:\n",
        "    print(\"Multiplicação: \", multiplicacao)\n",
        "  case 4:\n",
        "    print(\"Divisão: \", divisao)\n",
        "  case 5:\n",
        "    print(\"Resto: \", resto)\n",
        "  case _:\n",
        "    print(\"Esta opção não é válida, porfavor, tente novamente com uma opção viavel.\")"
      ]
    },
    {
      "cell_type": "markdown",
      "metadata": {
        "id": "3euftCVhlhV9"
      },
      "source": [
        "Exemplos de AND e OR"
      ]
    },
    {
      "cell_type": "code",
      "execution_count": null,
      "metadata": {
        "id": "_syphq0WlkT1"
      },
      "outputs": [],
      "source": [
        "print(\"BEM VINDO, ESCOLHA UM NUMERO, DIREMOS SE ESTÁ DENTRO DO PADRÃO, SE ESTIVER, VOCÊ VENCE, CASO NÃO, VOCÊ PERDE\")\n",
        "\n",
        "numero = int(input(\"Escolha um numero de 1 a 100: \"))\n",
        "\n",
        "if numero >= 10 and numero <= 30:\n",
        "  print(\"Esta dentro do padrão! \\nParabens! Você venceu!\")\n",
        "elif numero > 100:\n",
        "  print(\"Este numero é invalido! \\nTente outro numero!\")\n",
        "elif numero <101:\n",
        "  print(\"Esta fora do padrão! \\nTente Novamente!\")"
      ]
    },
    {
      "cell_type": "code",
      "execution_count": null,
      "metadata": {
        "id": "1FqdLI4nmxt5"
      },
      "outputs": [],
      "source": [
        "feriado = input(\"Hoje é feriado? (sim/não) \")\n",
        "fim_de_semana = input(\"Hoje é final de semana? (sim/não) \")\n",
        "\n",
        "if feriado == \"sim\" or fim_de_semana == \"sim\":\n",
        "  print(\"Hoje é dia de descanso!\")\n",
        "else:\n",
        "  print(\"Hoje é dia de trabalho, vai trabalhar!\")"
      ]
    },
    {
      "cell_type": "markdown",
      "metadata": {
        "id": "V7eLSPy4pDM8"
      },
      "source": [
        "Exercicio 2\n"
      ]
    },
    {
      "cell_type": "code",
      "execution_count": null,
      "metadata": {
        "id": "g9UW-sPkpF1M"
      },
      "outputs": [],
      "source": [
        "print(\"BEM VINDO, VAMOS VERIFICAR SE O DIA ESTA BOM PARA SAIR DE CASA?\")\n",
        "\n",
        "temperatura = int(input(\"Qual é a temperatura do local?\\n \"))\n",
        "clima = input(\"Hoje esta chovendo? \\n(sim/não): \")\n",
        "\n",
        "if temperatura >= 20 and temperatura <= 30 and clima == \"não\":\n",
        "  print(\"Hoje é um dia agradavel para passear!\")\n",
        "elif temperatura < 20 or temperatura > 30 and clima == \"sim\":\n",
        "  print(\"Se você saiu de casa, meu nobre.\\nSe prepare para um desastre!\")\n",
        "else:\n",
        "  print(\"Talvez seja melhor ficar em casa.\")"
      ]
    },
    {
      "cell_type": "markdown",
      "metadata": {
        "id": "v1X2iaAvt4dz"
      },
      "source": [
        "# Parte 4"
      ]
    },
    {
      "cell_type": "markdown",
      "metadata": {
        "id": "5hc0QDtayTSF"
      },
      "source": [
        "Exercicio 1"
      ]
    },
    {
      "cell_type": "code",
      "execution_count": null,
      "metadata": {
        "id": "LlO4aU-Qt8lr"
      },
      "outputs": [],
      "source": [
        "print(\"BEM VINDO Á PLATAFORMA DA SENAI, PORFAVOR PREENCHA OS CAMPOS EM BRANCO PARA PROSSEGUIR:\")\n",
        "\n",
        "usuario = input(\"Nome de Usuario: \")\n",
        "senha = (input(\"Senha: \"))\n",
        "\n",
        "if usuario == \"Aluno Tomás\" and senha == \"2025senai\":\n",
        "  print(\"Acesso concedido \\nBem Vindo de volta Aluno, espero que consiga o que esta procurando!\\n:)\")\n",
        "else:\n",
        "  print(\"Acesso negado\")\n",
        "\n",
        "\n"
      ]
    },
    {
      "cell_type": "markdown",
      "metadata": {
        "id": "RUa3M_c31cYO"
      },
      "source": [
        "Exemplos de FOR e WHILE"
      ]
    },
    {
      "cell_type": "code",
      "execution_count": null,
      "metadata": {
        "id": "UgA3v56S1gPH"
      },
      "outputs": [],
      "source": [
        "frutas = [\"maçã\", \"banana\", \"cereja\"]\n",
        "\n",
        "for fruta in frutas:\n",
        "  print(frutas)"
      ]
    },
    {
      "cell_type": "code",
      "execution_count": null,
      "metadata": {
        "id": "PEzjyTOX2z3q"
      },
      "outputs": [],
      "source": [
        "contador = 1\n",
        "while contador <= 5:\n",
        "  print(contador)\n",
        "  contador += 1"
      ]
    },
    {
      "cell_type": "markdown",
      "metadata": {
        "id": "KNXVNyC95RXC"
      },
      "source": [
        "Exemplos Range"
      ]
    },
    {
      "cell_type": "code",
      "execution_count": null,
      "metadata": {
        "id": "iXIDfcjK3hhL"
      },
      "outputs": [],
      "source": [
        "#range(stop)\n",
        "for i in range(5):\n",
        "  print(i)\n"
      ]
    },
    {
      "cell_type": "code",
      "execution_count": null,
      "metadata": {
        "id": "NUpnr_TG4y6J"
      },
      "outputs": [],
      "source": [
        "#range(start, stop)\n",
        "for i in range(2, 6):\n",
        "  print(1)"
      ]
    },
    {
      "cell_type": "code",
      "execution_count": null,
      "metadata": {
        "id": "DXjlTTPn408Z"
      },
      "outputs": [],
      "source": [
        "#range (stop, start, step)\n",
        "for i in range(1, 10, 2):\n",
        "  print(i)"
      ]
    },
    {
      "cell_type": "markdown",
      "metadata": {
        "id": "lki_p_au5QOy"
      },
      "source": [
        "Exercicio 2"
      ]
    },
    {
      "cell_type": "code",
      "execution_count": null,
      "metadata": {
        "id": "Qc4HKqk_5WGa"
      },
      "outputs": [],
      "source": [
        "texto = input(\"Qual a palavra? \")\n",
        "\n",
        "for letra in texto:\n",
        "  print(letra)"
      ]
    },
    {
      "cell_type": "markdown",
      "metadata": {
        "id": "hmRpzadU6RgE"
      },
      "source": [
        "Exercicio 3"
      ]
    },
    {
      "cell_type": "code",
      "execution_count": null,
      "metadata": {
        "id": "Ikwi-fVf6TIM"
      },
      "outputs": [],
      "source": [
        "contador = 0\n",
        "while contador < 10:\n",
        "  print(contador)\n",
        "  contador += 1\n",
        "  print(contador)"
      ]
    },
    {
      "cell_type": "markdown",
      "metadata": {
        "id": "30uSIRC67xRp"
      },
      "source": [
        "# Lista 1"
      ]
    },
    {
      "cell_type": "markdown",
      "metadata": {
        "id": "gLqzWusL76P4"
      },
      "source": [
        "Numero 1\n"
      ]
    },
    {
      "cell_type": "code",
      "execution_count": null,
      "metadata": {
        "id": "sbLgx5wW7_iw"
      },
      "outputs": [],
      "source": [
        "print(\"OLÁ, BEM VINDO AO PROGRAMA DE CADASTRO DE PESSOAS, PORFAVOR COMPLETE OS CAMPOS EM BRANCO ABAIXO:\")\n",
        "\n",
        "nome = input(\"Nome: \")\n",
        "idade = int(input(\"Idade: \"))\n",
        "nacionalidade = input(\"Pais de Origem: \")\n",
        "endereco = input(\"Endereço: \")\n",
        "\n",
        "print(\"CONFIRA AS INFORMAÇÕES ABAIXO:\")\n",
        "print(\"O Cliente\", nome, \"com\", idade, \"anos e de\", nacionalidade, \"reside no endereço:\", endereco)"
      ]
    },
    {
      "cell_type": "markdown",
      "metadata": {
        "id": "2miAkS2j9zOc"
      },
      "source": [
        "Numero 2"
      ]
    },
    {
      "cell_type": "code",
      "execution_count": null,
      "metadata": {
        "id": "1RjwD0AD90YU"
      },
      "outputs": [],
      "source": [
        "print(\"BEM VINDO AO SISTEMA DE MULTIPLICAÇÂO, PARA PROSEGUIR DE O VALOR AO QUE QUERES SABER:\")\n",
        "\n",
        "a = int(input(\"De um valor numerico para a: \"))\n",
        "b = int(input(\"De um valor numerico para b: \"))\n",
        "\n",
        "\n",
        "multiplicacao = a*b\n",
        "\n",
        "print(\"Os valores escolhidos para a e b são, respectivamente:\", a,\"e\", b)\n",
        "\n",
        "print(\"O VALOR DA MULTIPLICAÇÃO DOS VALORES a E b É: \", multiplicacao)\n",
        "\n"
      ]
    },
    {
      "cell_type": "markdown",
      "metadata": {
        "id": "Jj4qBt83-tt1"
      },
      "source": [
        "Numero 3"
      ]
    },
    {
      "cell_type": "code",
      "execution_count": null,
      "metadata": {
        "id": "kYCrnuzq-vHu"
      },
      "outputs": [],
      "source": [
        "print(\"BEM VINDO AO PROGRAMA DE CALCULO DE TUA VELOCIDADE MEDIA EM UMA TRILHA, PORFAVOR, PREENCHA OS CAMPOS EM BRANCO A SEGUIR PARA REALIZAR OS CALCULOS:\")\n",
        "distancia = int(input(\"Distancia percorida em KM: \"))\n",
        "tempo = float(input(\"Tempo que durou a trilha em Horas:  \"))\n",
        "resultado = distancia/tempo\n",
        "print(f\"SUA VELOCIDADE MÉDIA NESTA TRILHA FOI APROXIMADAMENTE: {resultado:.2f} \")\n"
      ]
    },
    {
      "cell_type": "markdown",
      "metadata": {
        "id": "pESrn29FCDnz"
      },
      "source": [
        "Numero 4"
      ]
    },
    {
      "cell_type": "code",
      "execution_count": null,
      "metadata": {
        "id": "iOg-eJfRE3H3"
      },
      "outputs": [],
      "source": [
        "print(\"Bem vindo(a) ao sistema de urna, porfavor preencha os campos em branco para prosseguir: \")\n",
        "eleitores = int(input(\"Porfavor digite o numero de eleitores da cidade: \"))\n",
        "eleitores_ausentes = int(input(\"Digite o numero de eleitores não presentes: \"))\n",
        "votos_nulos = int(input(\"Digite o numero de votos nulos: \"))\n",
        "votos_candidato_um = int(input(\"Digite o numero de votos do candidato 1: \"))\n",
        "votos_candidato_dois = int(input(\"Digite o numero de votos do candidato 2: \"))\n",
        "\n",
        "porcentagem_de_candidato_um = (votos_candidato_um/eleitores)*100\n",
        "porcentagem_de_candidato_dois = (votos_candidato_dois/eleitores)*100\n",
        "porcentagem_de_votos_nulos = (votos_nulos/eleitores)*100\n",
        "porcentagem_de_votos_brancos = (eleitores_ausentes/eleitores)*100\n",
        "\n",
        "if eleitores == votos_nulos+votos_candidato_um+votos_candidato_dois+eleitores_ausentes:\n",
        "  print(f\"O candidato 1 tem {porcentagem_de_candidato_um:.2f}% de\", eleitores, \"eleitores\" f\"\\nO candidato 2 tem {porcentagem_de_candidato_dois:.2f}% de\", eleitores,\"eleitores\" f\"\\nO valor de votos nulos é {porcentagem_de_votos_nulos:.2f}% de\", eleitores,\"eleitores\" f\"\\nO valor de votos brancos é {porcentagem_de_votos_brancos:.2f}% de\", eleitores,\"eleitores\")\n",
        "else:\n",
        "  print(\"Algum valor dado está incoerente ao valor de eleitores, porfavor analise e tente novamente.\")\n",
        "\n",
        "if porcentagem_de_candidato_um > porcentagem_de_candidato_dois:\n",
        "  print(f\"O candidato 1 vençeu com {votos_candidato_um} votos!\")\n",
        "elif porcentagem_de_candidato_dois > porcentagem_de_candidato_um:\n",
        "  print(f\"O candidato 2 vençeu com {votos_candidato_dois} votos!\")\n",
        "\n",
        "print(\"Obrigado por usar este serviço!\")"
      ]
    },
    {
      "cell_type": "markdown",
      "metadata": {
        "id": "jlfzWikPzm_N"
      },
      "source": [
        "Numero 5"
      ]
    },
    {
      "cell_type": "code",
      "execution_count": null,
      "metadata": {
        "id": "IsggWasACE9j"
      },
      "outputs": [],
      "source": [
        "print(\"BEM VINDO AO SISTEMA DE CADASTRO DE CLIENTE NO HOTEL PARADISE FLORIPA, PORFAVOR COMPLETE OS CAMPOS ABAIXO PARA PROSSEGUIR:\")\n",
        "\n",
        "diaria = int(input(\"Quantos dias sera vossa estadia? \"))\n",
        "pessoas = int(input(\"Quantas pessoas estarão com você? \"))\n",
        "cafes = int(input(\"Quantas pessoas tomarão café da manhã? \"))\n",
        "\n",
        "valor_diaria = diaria*280\n",
        "valor_cafe = cafes*15\n",
        "valor_estadia = valor_diaria+valor_cafe\n",
        "\n",
        "print(\"O VALOR DE SUA ESTADIA SERA NO TOTAL DE \", valor_estadia, \"R$\")"
      ]
    },
    {
      "cell_type": "markdown",
      "metadata": {
        "id": "Eh95VnO2Hd0G"
      },
      "source": [
        "Numero 6"
      ]
    },
    {
      "cell_type": "code",
      "execution_count": null,
      "metadata": {
        "id": "wM3SKME63MMG"
      },
      "outputs": [],
      "source": [
        "print(\"Bora calcular o seu IMC? (Indice de Massa Corporal)\")\n",
        "\n",
        "peso = float(input(\"Qual é o seu peso? \"))\n",
        "altura = float(input(\"Qual é a sua altura? \"))\n",
        "\n",
        "imc = peso/(altura*altura)\n",
        "\n",
        "print(f\"Seu indice de massa corporal é de {imc:.3f} Kg/m²!\")"
      ]
    }
  ],
  "metadata": {
    "colab": {
      "provenance": [],
      "include_colab_link": true
    },
    "kernelspec": {
      "display_name": "Python 3",
      "name": "python3"
    }
  },
  "nbformat": 4,
  "nbformat_minor": 0
}